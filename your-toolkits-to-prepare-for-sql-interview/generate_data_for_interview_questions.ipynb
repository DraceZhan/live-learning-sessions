{
 "cells": [
  {
   "cell_type": "markdown",
   "metadata": {},
   "source": [
    "You have 3 tables, one called PROFESSOR, one called COURSE, one called SCHEDULE.\n",
    "<br><br>\n",
    "**PROFESSOR** table has columns:\n",
    "- professor_id (unique int)\n",
    "- professor_department (int)\n",
    "- professor_name (string)\n",
    "\n",
    "**COURSE** table has columns:\n",
    "- course_id (unique int)\n",
    "- course_department (int)\n",
    "- course_name (string)\n",
    "\n",
    "**SCHEDULE** table has columns:\n",
    "- professor_id\n",
    "- course_id\n",
    "- semester (\"FALL\", \"SPRING\", or \"SUMMER\")\n",
    "- year (int)\n",
    "\n",
    "Write the query to return unique rows that have two columns, professor_name and course_name, but only where the professor is teaching a course that isn't in his/her department."
   ]
  },
  {
   "cell_type": "code",
   "execution_count": 1,
   "metadata": {},
   "outputs": [],
   "source": [
    "import numpy as np\n",
    "import pandas as pd\n",
    "import time\n",
    "from faker import Faker\n",
    "fake = Faker()"
   ]
  },
  {
   "cell_type": "markdown",
   "metadata": {},
   "source": [
    "### Generate professor table"
   ]
  },
  {
   "cell_type": "code",
   "execution_count": 2,
   "metadata": {},
   "outputs": [],
   "source": [
    "n_prof = 30\n",
    "n_dep = 5\n",
    "n_course = 25 \n",
    "seed = 0\n",
    "\n",
    "professor_name = set([])\n",
    "while len(professor_name) < n_prof:\n",
    "    professor_name.add(fake.name())\n",
    "\n",
    "np.random.seed(seed)\n",
    "professor_name = list(professor_name)\n",
    "professor = pd.DataFrame(\n",
    "    enumerate(professor_name), columns=[\"professor_id\", \"professor_name\"])\n",
    "professor[\"professor_department\"] = np.random.choice(range(n_dep), size=n_prof)\n"
   ]
  },
  {
   "cell_type": "markdown",
   "metadata": {},
   "source": [
    "### Generate course table"
   ]
  },
  {
   "cell_type": "code",
   "execution_count": 3,
   "metadata": {},
   "outputs": [],
   "source": [
    "course = pd.DataFrame(\n",
    "    ((i, \"Course_{}\".format(i)) for i in range(n_course)),\n",
    "    columns=[\"course_id\", \"course_name\"])\n",
    "\n",
    "course[\"course_department\"] = np.random.choice(range(n_dep), n_course)"
   ]
  },
  {
   "cell_type": "markdown",
   "metadata": {},
   "source": [
    "### Generate schedule table"
   ]
  },
  {
   "cell_type": "code",
   "execution_count": 4,
   "metadata": {},
   "outputs": [
    {
     "data": {
      "text/html": [
       "<div>\n",
       "<style scoped>\n",
       "    .dataframe tbody tr th:only-of-type {\n",
       "        vertical-align: middle;\n",
       "    }\n",
       "\n",
       "    .dataframe tbody tr th {\n",
       "        vertical-align: top;\n",
       "    }\n",
       "\n",
       "    .dataframe thead th {\n",
       "        text-align: right;\n",
       "    }\n",
       "</style>\n",
       "<table border=\"1\" class=\"dataframe\">\n",
       "  <thead>\n",
       "    <tr style=\"text-align: right;\">\n",
       "      <th></th>\n",
       "      <th>course_id</th>\n",
       "      <th>year</th>\n",
       "      <th>semester</th>\n",
       "      <th>professor_id</th>\n",
       "    </tr>\n",
       "  </thead>\n",
       "  <tbody>\n",
       "    <tr>\n",
       "      <th>0</th>\n",
       "      <td>6</td>\n",
       "      <td>2015</td>\n",
       "      <td>SPRING</td>\n",
       "      <td>8</td>\n",
       "    </tr>\n",
       "    <tr>\n",
       "      <th>1</th>\n",
       "      <td>10</td>\n",
       "      <td>2015</td>\n",
       "      <td>SPRING</td>\n",
       "      <td>12</td>\n",
       "    </tr>\n",
       "    <tr>\n",
       "      <th>2</th>\n",
       "      <td>24</td>\n",
       "      <td>2015</td>\n",
       "      <td>SPRING</td>\n",
       "      <td>28</td>\n",
       "    </tr>\n",
       "    <tr>\n",
       "      <th>3</th>\n",
       "      <td>7</td>\n",
       "      <td>2015</td>\n",
       "      <td>SPRING</td>\n",
       "      <td>5</td>\n",
       "    </tr>\n",
       "    <tr>\n",
       "      <th>4</th>\n",
       "      <td>23</td>\n",
       "      <td>2015</td>\n",
       "      <td>SPRING</td>\n",
       "      <td>25</td>\n",
       "    </tr>\n",
       "    <tr>\n",
       "      <th>...</th>\n",
       "      <td>...</td>\n",
       "      <td>...</td>\n",
       "      <td>...</td>\n",
       "      <td>...</td>\n",
       "    </tr>\n",
       "    <tr>\n",
       "      <th>12</th>\n",
       "      <td>18</td>\n",
       "      <td>2019</td>\n",
       "      <td>FALL</td>\n",
       "      <td>8</td>\n",
       "    </tr>\n",
       "    <tr>\n",
       "      <th>13</th>\n",
       "      <td>21</td>\n",
       "      <td>2019</td>\n",
       "      <td>FALL</td>\n",
       "      <td>5</td>\n",
       "    </tr>\n",
       "    <tr>\n",
       "      <th>14</th>\n",
       "      <td>13</td>\n",
       "      <td>2019</td>\n",
       "      <td>FALL</td>\n",
       "      <td>22</td>\n",
       "    </tr>\n",
       "    <tr>\n",
       "      <th>15</th>\n",
       "      <td>12</td>\n",
       "      <td>2019</td>\n",
       "      <td>FALL</td>\n",
       "      <td>4</td>\n",
       "    </tr>\n",
       "    <tr>\n",
       "      <th>16</th>\n",
       "      <td>10</td>\n",
       "      <td>2019</td>\n",
       "      <td>FALL</td>\n",
       "      <td>9</td>\n",
       "    </tr>\n",
       "  </tbody>\n",
       "</table>\n",
       "<p>273 rows × 4 columns</p>\n",
       "</div>"
      ],
      "text/plain": [
       "    course_id  year semester  professor_id\n",
       "0           6  2015   SPRING             8\n",
       "1          10  2015   SPRING            12\n",
       "2          24  2015   SPRING            28\n",
       "3           7  2015   SPRING             5\n",
       "4          23  2015   SPRING            25\n",
       "..        ...   ...      ...           ...\n",
       "12         18  2019     FALL             8\n",
       "13         21  2019     FALL             5\n",
       "14         13  2019     FALL            22\n",
       "15         12  2019     FALL             4\n",
       "16         10  2019     FALL             9\n",
       "\n",
       "[273 rows x 4 columns]"
      ]
     },
     "execution_count": 4,
     "metadata": {},
     "output_type": "execute_result"
    }
   ],
   "source": [
    "n_year = 5\n",
    "start_year = 2015\n",
    "most_courses = n_course - 5\n",
    "least_courses = most_courses - 3\n",
    "num_courses_semester = np.random.uniform(least_courses, most_courses, n_year*3).astype(int)\n",
    "\n",
    "schedule_lst = []\n",
    "for i in range(n_year):\n",
    "    year = start_year + i\n",
    "    for semester in [\"SPRING\", \"SUMMER\", \"FALL\"]:\n",
    "        size = num_courses_semester[i]\n",
    "        tmp = pd.DataFrame(\n",
    "            np.random.choice(course[\"course_id\"], size, replace=False), \n",
    "            columns=[\"course_id\"])\n",
    "        tmp[\"year\"] = year\n",
    "        tmp[\"semester\"] = semester\n",
    "        tmp[\"professor_id\"] = np.random.choice(professor[\"professor_id\"], size, replace=False)\n",
    "        schedule_lst.append(tmp)\n",
    "    \n",
    "schedule = pd.concat(schedule_lst)"
   ]
  },
  {
   "cell_type": "code",
   "execution_count": 6,
   "metadata": {},
   "outputs": [],
   "source": [
    "professor.to_csv(\"./csv/professor.csv\", index=False)\n",
    "course.to_csv(\"./csv/course.csv\", index=False)\n",
    "schedule.to_csv(\"./csv/schedule.csv\", index=False)"
   ]
  },
  {
   "cell_type": "code",
   "execution_count": null,
   "metadata": {},
   "outputs": [],
   "source": []
  }
 ],
 "metadata": {
  "kernelspec": {
   "display_name": "Python 3",
   "language": "python",
   "name": "python3"
  },
  "language_info": {
   "codemirror_mode": {
    "name": "ipython",
    "version": 3
   },
   "file_extension": ".py",
   "mimetype": "text/x-python",
   "name": "python",
   "nbconvert_exporter": "python",
   "pygments_lexer": "ipython3",
   "version": "3.7.3"
  }
 },
 "nbformat": 4,
 "nbformat_minor": 4
}
